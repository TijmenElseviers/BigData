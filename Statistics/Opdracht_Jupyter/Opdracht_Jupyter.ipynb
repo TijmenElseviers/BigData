{
 "cells": [
  {
   "cell_type": "markdown",
   "metadata": {},
   "source": [
    "# Avocado Dataset\n",
    "Een dataset over de avocadoprijzen sinds 2015  \n",
    "Ik koos voor deze dataset omdat:  \n",
    "1. Avocado's in populariteit zijn gestegen  \n",
    "2. De dataset een goede hoeveelheid data had om mee te kunnen werken  \n",
    "\n",
    "Ik maak gebruik van pandas omdat hier een hoop extra handige tools in zitten  \n",
    "Vanwege de grote hoeveelheid aan data zijn de lijngrafieken ingekort tot data van de laatste 30 tot 100 lijnen"
   ]
  },
  {
   "cell_type": "code",
   "execution_count": 59,
   "metadata": {},
   "outputs": [],
   "source": [
    "datafile = 'avocado.csv'\n",
    "import numpy as np\n",
    "import matplotlib.pyplot as plt\n",
    "from scipy import stats\n",
    "import datetime\n",
    "import pandas as ps\n",
    "\n",
    "\n",
    "dataAvocado = ps.read_csv(datafile, delimiter=',', parse_dates=['Date'])"
   ]
  },
  {
   "cell_type": "code",
   "execution_count": 60,
   "metadata": {},
   "outputs": [
    {
     "data": {
      "text/plain": [
       "ID                       int64\n",
       "Date            datetime64[ns]\n",
       "AveragePrice           float64\n",
       "Total Volume           float64\n",
       "4046                   float64\n",
       "4225                   float64\n",
       "4770                   float64\n",
       "Total Bags             float64\n",
       "Small Bags             float64\n",
       "Large Bags             float64\n",
       "XLarge Bags            float64\n",
       "type                    object\n",
       "year                     int64\n",
       "region                  object\n",
       "dtype: object"
      ]
     },
     "execution_count": 60,
     "metadata": {},
     "output_type": "execute_result"
    }
   ],
   "source": [
    "dataAvocado.dtypes"
   ]
  },
  {
   "cell_type": "code",
   "execution_count": 61,
   "metadata": {},
   "outputs": [],
   "source": [
    "dataAvocado = dataAvocado.drop(['4046', '4225', '4770', 'type', 'year', 'region', 'ID'], axis=1)"
   ]
  },
  {
   "cell_type": "code",
   "execution_count": 62,
   "metadata": {},
   "outputs": [
    {
     "data": {
      "text/html": [
       "<div>\n",
       "<style scoped>\n",
       "    .dataframe tbody tr th:only-of-type {\n",
       "        vertical-align: middle;\n",
       "    }\n",
       "\n",
       "    .dataframe tbody tr th {\n",
       "        vertical-align: top;\n",
       "    }\n",
       "\n",
       "    .dataframe thead th {\n",
       "        text-align: right;\n",
       "    }\n",
       "</style>\n",
       "<table border=\"1\" class=\"dataframe\">\n",
       "  <thead>\n",
       "    <tr style=\"text-align: right;\">\n",
       "      <th></th>\n",
       "      <th>Date</th>\n",
       "      <th>AveragePrice</th>\n",
       "      <th>Total Volume</th>\n",
       "      <th>Total Bags</th>\n",
       "      <th>Small Bags</th>\n",
       "      <th>Large Bags</th>\n",
       "      <th>XLarge Bags</th>\n",
       "    </tr>\n",
       "  </thead>\n",
       "  <tbody>\n",
       "    <tr>\n",
       "      <th>0</th>\n",
       "      <td>2015-12-27</td>\n",
       "      <td>1.33</td>\n",
       "      <td>64236.62</td>\n",
       "      <td>8696.87</td>\n",
       "      <td>8603.62</td>\n",
       "      <td>93.25</td>\n",
       "      <td>0.00</td>\n",
       "    </tr>\n",
       "    <tr>\n",
       "      <th>1</th>\n",
       "      <td>2015-12-20</td>\n",
       "      <td>1.35</td>\n",
       "      <td>54876.98</td>\n",
       "      <td>9505.56</td>\n",
       "      <td>9408.07</td>\n",
       "      <td>97.49</td>\n",
       "      <td>0.00</td>\n",
       "    </tr>\n",
       "    <tr>\n",
       "      <th>2</th>\n",
       "      <td>2015-12-13</td>\n",
       "      <td>0.93</td>\n",
       "      <td>118220.22</td>\n",
       "      <td>8145.35</td>\n",
       "      <td>8042.21</td>\n",
       "      <td>103.14</td>\n",
       "      <td>0.00</td>\n",
       "    </tr>\n",
       "    <tr>\n",
       "      <th>3</th>\n",
       "      <td>2015-12-06</td>\n",
       "      <td>1.08</td>\n",
       "      <td>78992.15</td>\n",
       "      <td>5811.16</td>\n",
       "      <td>5677.40</td>\n",
       "      <td>133.76</td>\n",
       "      <td>0.00</td>\n",
       "    </tr>\n",
       "    <tr>\n",
       "      <th>4</th>\n",
       "      <td>2015-11-29</td>\n",
       "      <td>1.28</td>\n",
       "      <td>51039.60</td>\n",
       "      <td>6183.95</td>\n",
       "      <td>5986.26</td>\n",
       "      <td>197.69</td>\n",
       "      <td>0.00</td>\n",
       "    </tr>\n",
       "    <tr>\n",
       "      <th>5</th>\n",
       "      <td>2015-11-22</td>\n",
       "      <td>1.26</td>\n",
       "      <td>55979.78</td>\n",
       "      <td>6683.91</td>\n",
       "      <td>6556.47</td>\n",
       "      <td>127.44</td>\n",
       "      <td>0.00</td>\n",
       "    </tr>\n",
       "    <tr>\n",
       "      <th>6</th>\n",
       "      <td>2015-11-15</td>\n",
       "      <td>0.99</td>\n",
       "      <td>83453.76</td>\n",
       "      <td>8318.86</td>\n",
       "      <td>8196.81</td>\n",
       "      <td>122.05</td>\n",
       "      <td>0.00</td>\n",
       "    </tr>\n",
       "    <tr>\n",
       "      <th>7</th>\n",
       "      <td>2015-11-08</td>\n",
       "      <td>0.98</td>\n",
       "      <td>109428.33</td>\n",
       "      <td>6829.22</td>\n",
       "      <td>6266.85</td>\n",
       "      <td>562.37</td>\n",
       "      <td>0.00</td>\n",
       "    </tr>\n",
       "    <tr>\n",
       "      <th>8</th>\n",
       "      <td>2015-11-01</td>\n",
       "      <td>1.02</td>\n",
       "      <td>99811.42</td>\n",
       "      <td>11388.36</td>\n",
       "      <td>11104.53</td>\n",
       "      <td>283.83</td>\n",
       "      <td>0.00</td>\n",
       "    </tr>\n",
       "    <tr>\n",
       "      <th>9</th>\n",
       "      <td>2015-10-25</td>\n",
       "      <td>1.07</td>\n",
       "      <td>74338.76</td>\n",
       "      <td>8625.92</td>\n",
       "      <td>8061.47</td>\n",
       "      <td>564.45</td>\n",
       "      <td>0.00</td>\n",
       "    </tr>\n",
       "    <tr>\n",
       "      <th>10</th>\n",
       "      <td>2015-10-18</td>\n",
       "      <td>1.12</td>\n",
       "      <td>84843.44</td>\n",
       "      <td>8205.66</td>\n",
       "      <td>7877.86</td>\n",
       "      <td>327.80</td>\n",
       "      <td>0.00</td>\n",
       "    </tr>\n",
       "    <tr>\n",
       "      <th>11</th>\n",
       "      <td>2015-10-11</td>\n",
       "      <td>1.28</td>\n",
       "      <td>64489.17</td>\n",
       "      <td>10123.90</td>\n",
       "      <td>9866.27</td>\n",
       "      <td>257.63</td>\n",
       "      <td>0.00</td>\n",
       "    </tr>\n",
       "    <tr>\n",
       "      <th>12</th>\n",
       "      <td>2015-10-04</td>\n",
       "      <td>1.31</td>\n",
       "      <td>61007.10</td>\n",
       "      <td>8756.75</td>\n",
       "      <td>8379.98</td>\n",
       "      <td>376.77</td>\n",
       "      <td>0.00</td>\n",
       "    </tr>\n",
       "    <tr>\n",
       "      <th>13</th>\n",
       "      <td>2015-09-27</td>\n",
       "      <td>0.99</td>\n",
       "      <td>106803.39</td>\n",
       "      <td>6034.46</td>\n",
       "      <td>5888.87</td>\n",
       "      <td>145.59</td>\n",
       "      <td>0.00</td>\n",
       "    </tr>\n",
       "    <tr>\n",
       "      <th>14</th>\n",
       "      <td>2015-09-20</td>\n",
       "      <td>1.33</td>\n",
       "      <td>69759.01</td>\n",
       "      <td>9267.36</td>\n",
       "      <td>8489.10</td>\n",
       "      <td>778.26</td>\n",
       "      <td>0.00</td>\n",
       "    </tr>\n",
       "    <tr>\n",
       "      <th>15</th>\n",
       "      <td>2015-09-13</td>\n",
       "      <td>1.28</td>\n",
       "      <td>76111.27</td>\n",
       "      <td>9286.68</td>\n",
       "      <td>8665.19</td>\n",
       "      <td>621.49</td>\n",
       "      <td>0.00</td>\n",
       "    </tr>\n",
       "    <tr>\n",
       "      <th>16</th>\n",
       "      <td>2015-09-06</td>\n",
       "      <td>1.11</td>\n",
       "      <td>99172.96</td>\n",
       "      <td>7990.10</td>\n",
       "      <td>7762.87</td>\n",
       "      <td>227.23</td>\n",
       "      <td>0.00</td>\n",
       "    </tr>\n",
       "    <tr>\n",
       "      <th>17</th>\n",
       "      <td>2015-08-30</td>\n",
       "      <td>1.07</td>\n",
       "      <td>105693.84</td>\n",
       "      <td>10306.73</td>\n",
       "      <td>10218.93</td>\n",
       "      <td>87.80</td>\n",
       "      <td>0.00</td>\n",
       "    </tr>\n",
       "    <tr>\n",
       "      <th>18</th>\n",
       "      <td>2015-08-23</td>\n",
       "      <td>1.34</td>\n",
       "      <td>79992.09</td>\n",
       "      <td>10880.36</td>\n",
       "      <td>10745.79</td>\n",
       "      <td>134.57</td>\n",
       "      <td>0.00</td>\n",
       "    </tr>\n",
       "    <tr>\n",
       "      <th>19</th>\n",
       "      <td>2015-08-16</td>\n",
       "      <td>1.33</td>\n",
       "      <td>80043.78</td>\n",
       "      <td>10443.22</td>\n",
       "      <td>10297.68</td>\n",
       "      <td>145.54</td>\n",
       "      <td>0.00</td>\n",
       "    </tr>\n",
       "    <tr>\n",
       "      <th>20</th>\n",
       "      <td>2015-08-09</td>\n",
       "      <td>1.12</td>\n",
       "      <td>111140.93</td>\n",
       "      <td>9225.89</td>\n",
       "      <td>9116.34</td>\n",
       "      <td>109.55</td>\n",
       "      <td>0.00</td>\n",
       "    </tr>\n",
       "    <tr>\n",
       "      <th>21</th>\n",
       "      <td>2015-08-02</td>\n",
       "      <td>1.45</td>\n",
       "      <td>75133.10</td>\n",
       "      <td>11847.02</td>\n",
       "      <td>11768.52</td>\n",
       "      <td>78.50</td>\n",
       "      <td>0.00</td>\n",
       "    </tr>\n",
       "    <tr>\n",
       "      <th>22</th>\n",
       "      <td>2015-07-26</td>\n",
       "      <td>1.11</td>\n",
       "      <td>106757.10</td>\n",
       "      <td>13192.69</td>\n",
       "      <td>13061.53</td>\n",
       "      <td>131.16</td>\n",
       "      <td>0.00</td>\n",
       "    </tr>\n",
       "    <tr>\n",
       "      <th>23</th>\n",
       "      <td>2015-07-19</td>\n",
       "      <td>1.26</td>\n",
       "      <td>96617.00</td>\n",
       "      <td>11287.48</td>\n",
       "      <td>11103.49</td>\n",
       "      <td>183.99</td>\n",
       "      <td>0.00</td>\n",
       "    </tr>\n",
       "    <tr>\n",
       "      <th>24</th>\n",
       "      <td>2015-07-12</td>\n",
       "      <td>1.05</td>\n",
       "      <td>124055.31</td>\n",
       "      <td>24431.90</td>\n",
       "      <td>24290.08</td>\n",
       "      <td>108.49</td>\n",
       "      <td>33.33</td>\n",
       "    </tr>\n",
       "  </tbody>\n",
       "</table>\n",
       "</div>"
      ],
      "text/plain": [
       "         Date  AveragePrice  Total Volume  Total Bags  Small Bags  Large Bags  \\\n",
       "0  2015-12-27          1.33      64236.62     8696.87     8603.62       93.25   \n",
       "1  2015-12-20          1.35      54876.98     9505.56     9408.07       97.49   \n",
       "2  2015-12-13          0.93     118220.22     8145.35     8042.21      103.14   \n",
       "3  2015-12-06          1.08      78992.15     5811.16     5677.40      133.76   \n",
       "4  2015-11-29          1.28      51039.60     6183.95     5986.26      197.69   \n",
       "5  2015-11-22          1.26      55979.78     6683.91     6556.47      127.44   \n",
       "6  2015-11-15          0.99      83453.76     8318.86     8196.81      122.05   \n",
       "7  2015-11-08          0.98     109428.33     6829.22     6266.85      562.37   \n",
       "8  2015-11-01          1.02      99811.42    11388.36    11104.53      283.83   \n",
       "9  2015-10-25          1.07      74338.76     8625.92     8061.47      564.45   \n",
       "10 2015-10-18          1.12      84843.44     8205.66     7877.86      327.80   \n",
       "11 2015-10-11          1.28      64489.17    10123.90     9866.27      257.63   \n",
       "12 2015-10-04          1.31      61007.10     8756.75     8379.98      376.77   \n",
       "13 2015-09-27          0.99     106803.39     6034.46     5888.87      145.59   \n",
       "14 2015-09-20          1.33      69759.01     9267.36     8489.10      778.26   \n",
       "15 2015-09-13          1.28      76111.27     9286.68     8665.19      621.49   \n",
       "16 2015-09-06          1.11      99172.96     7990.10     7762.87      227.23   \n",
       "17 2015-08-30          1.07     105693.84    10306.73    10218.93       87.80   \n",
       "18 2015-08-23          1.34      79992.09    10880.36    10745.79      134.57   \n",
       "19 2015-08-16          1.33      80043.78    10443.22    10297.68      145.54   \n",
       "20 2015-08-09          1.12     111140.93     9225.89     9116.34      109.55   \n",
       "21 2015-08-02          1.45      75133.10    11847.02    11768.52       78.50   \n",
       "22 2015-07-26          1.11     106757.10    13192.69    13061.53      131.16   \n",
       "23 2015-07-19          1.26      96617.00    11287.48    11103.49      183.99   \n",
       "24 2015-07-12          1.05     124055.31    24431.90    24290.08      108.49   \n",
       "\n",
       "    XLarge Bags  \n",
       "0          0.00  \n",
       "1          0.00  \n",
       "2          0.00  \n",
       "3          0.00  \n",
       "4          0.00  \n",
       "5          0.00  \n",
       "6          0.00  \n",
       "7          0.00  \n",
       "8          0.00  \n",
       "9          0.00  \n",
       "10         0.00  \n",
       "11         0.00  \n",
       "12         0.00  \n",
       "13         0.00  \n",
       "14         0.00  \n",
       "15         0.00  \n",
       "16         0.00  \n",
       "17         0.00  \n",
       "18         0.00  \n",
       "19         0.00  \n",
       "20         0.00  \n",
       "21         0.00  \n",
       "22         0.00  \n",
       "23         0.00  \n",
       "24        33.33  "
      ]
     },
     "execution_count": 62,
     "metadata": {},
     "output_type": "execute_result"
    }
   ],
   "source": [
    "dataAvocado[:25]"
   ]
  },
  {
   "cell_type": "markdown",
   "metadata": {},
   "source": [
    "# Statistiek\n",
    "## Centrummaten"
   ]
  },
  {
   "cell_type": "markdown",
   "metadata": {},
   "source": [
    "### Gemiddelden berekenen"
   ]
  },
  {
   "cell_type": "code",
   "execution_count": 63,
   "metadata": {},
   "outputs": [
    {
     "name": "stdout",
     "output_type": "stream",
     "text": [
      "De gemiddelden van alle kollommen zijn:\n",
      "AveragePrice         1.405978\n",
      "Total Volume    850644.013009\n",
      "Total Bags      239639.202060\n",
      "Small Bags      182194.686696\n",
      "Large Bags       54338.088145\n",
      "XLarge Bags       3106.426507\n",
      "dtype: float64\n"
     ]
    }
   ],
   "source": [
    "print('De gemiddelden van alle kollommen zijn:')\n",
    "print(dataAvocado.drop(columns=\"Date\").mean())"
   ]
  },
  {
   "cell_type": "markdown",
   "metadata": {},
   "source": [
    "### Medianen berekenen"
   ]
  },
  {
   "cell_type": "code",
   "execution_count": 65,
   "metadata": {},
   "outputs": [
    {
     "name": "stdout",
     "output_type": "stream",
     "text": [
      "De medianen van alle kollommen zijn:\n",
      "AveragePrice         1.37\n",
      "Total Volume    107376.76\n",
      "Total Bags       39743.83\n",
      "Small Bags       26362.82\n",
      "Large Bags        2647.71\n",
      "XLarge Bags          0.00\n",
      "dtype: float64\n"
     ]
    }
   ],
   "source": [
    "print('De medianen van alle kollommen zijn:')\n",
    "print(dataAvocado.drop(columns=\"Date\").median())"
   ]
  },
  {
   "cell_type": "markdown",
   "metadata": {},
   "source": [
    "### Modus berekenen"
   ]
  },
  {
   "cell_type": "code",
   "execution_count": 69,
   "metadata": {},
   "outputs": [
    {
     "name": "stdout",
     "output_type": "stream",
     "text": [
      "De modussen van alle kollommen zijn:\n",
      "    AveragePrice  Total Volume  Total Bags  Small Bags  Large Bags  \\\n",
      "0           1.15       2038.99         0.0         0.0         0.0   \n",
      "1            NaN       2858.31         NaN         NaN         NaN   \n",
      "2            NaN       3288.85         NaN         NaN         NaN   \n",
      "3            NaN       3529.44         NaN         NaN         NaN   \n",
      "4            NaN       3713.49         NaN         NaN         NaN   \n",
      "5            NaN       4103.97         NaN         NaN         NaN   \n",
      "6            NaN       7223.46         NaN         NaN         NaN   \n",
      "7            NaN       9465.99         NaN         NaN         NaN   \n",
      "8            NaN      13234.04         NaN         NaN         NaN   \n",
      "9            NaN      19634.24         NaN         NaN         NaN   \n",
      "10           NaN      46602.16         NaN         NaN         NaN   \n",
      "11           NaN     569349.05         NaN         NaN         NaN   \n",
      "\n",
      "    XLarge Bags  \n",
      "0           0.0  \n",
      "1           NaN  \n",
      "2           NaN  \n",
      "3           NaN  \n",
      "4           NaN  \n",
      "5           NaN  \n",
      "6           NaN  \n",
      "7           NaN  \n",
      "8           NaN  \n",
      "9           NaN  \n",
      "10          NaN  \n",
      "11          NaN  \n"
     ]
    }
   ],
   "source": [
    "print('De modussen van alle kollommen zijn:')\n",
    "print(dataAvocado.mode(numeric_only=True))"
   ]
  },
  {
   "cell_type": "markdown",
   "metadata": {},
   "source": [
    "## Spreidingsmaten"
   ]
  },
  {
   "cell_type": "markdown",
   "metadata": {},
   "source": [
    "### Bereik berekenen"
   ]
  },
  {
   "cell_type": "code",
   "execution_count": 72,
   "metadata": {},
   "outputs": [
    {
     "name": "stdout",
     "output_type": "stream",
     "text": [
      "Het bereik van de kolommen:\n",
      "\n",
      "Maximum\n",
      "------------------------------\n",
      "AveragePrice           3.25\n",
      "Total Volume    62505646.52\n",
      "Total Bags      19373134.37\n",
      "Small Bags      13384586.80\n",
      "Large Bags       5719096.61\n",
      "XLarge Bags       551693.65\n",
      "dtype: float64\n",
      "\n",
      "Minimum\n",
      "------------------------------\n",
      "AveragePrice     0.44\n",
      "Total Volume    84.56\n",
      "Total Bags       0.00\n",
      "Small Bags       0.00\n",
      "Large Bags       0.00\n",
      "XLarge Bags      0.00\n",
      "dtype: float64\n"
     ]
    }
   ],
   "source": [
    "print('Het bereik van de kolommen:')\n",
    "print('');\n",
    "print('Maximum')\n",
    "print('------------------------------')\n",
    "print(dataAvocado.drop(columns=\"Date\").max())\n",
    "print('');\n",
    "print('Minimum')\n",
    "print('------------------------------')\n",
    "print(dataAvocado.drop(columns=\"Date\").min())"
   ]
  },
  {
   "cell_type": "markdown",
   "metadata": {},
   "source": [
    "### Interkwartiel afstanden berekenen (d.m.v. Boxplot)\n",
    "#### Boxplot voor gemiddelde prijzen"
   ]
  },
  {
   "cell_type": "code",
   "execution_count": 75,
   "metadata": {},
   "outputs": [
    {
     "data": {
      "text/plain": [
       "<matplotlib.axes._subplots.AxesSubplot at 0x167be321048>"
      ]
     },
     "execution_count": 75,
     "metadata": {},
     "output_type": "execute_result"
    },
    {
     "data": {
      "image/png": "[encoded data removed]",
      "text/plain": [
       "<Figure size 432x288 with 1 Axes>"
      ]
     },
     "metadata": {
      "needs_background": "light"
     },
     "output_type": "display_data"
    }
   ],
   "source": [
    "dataAvocado.boxplot(column='AveragePrice')"
   ]
  },
  {
   "cell_type": "markdown",
   "metadata": {},
   "source": [
    "### Standaarddeviatie voor alle kolommen\n"
   ]
  },
  {
   "cell_type": "code",
   "execution_count": 76,
   "metadata": {},
   "outputs": [
    {
     "name": "stdout",
     "output_type": "stream",
     "text": [
      "De standaarddeviatie van alle kollommen zijn:\n",
      "AveragePrice    4.026766e-01\n",
      "Total Volume    3.453545e+06\n",
      "Total Bags      9.862424e+05\n",
      "Small Bags      7.461785e+05\n",
      "Large Bags      2.439660e+05\n",
      "XLarge Bags     1.769289e+04\n",
      "dtype: float64\n"
     ]
    }
   ],
   "source": [
    "print('De standaarddeviatie van alle kollommen zijn:')\n",
    "print(dataAvocado.drop(columns=\"Date\").std())"
   ]
  },
  {
   "cell_type": "markdown",
   "metadata": {},
   "source": [
    "### Correlatie tussen de kolommen"
   ]
  },
  {
   "cell_type": "code",
   "execution_count": 77,
   "metadata": {},
   "outputs": [
    {
     "name": "stdout",
     "output_type": "stream",
     "text": [
      "De correlatie tussen de kolommen: \n",
      "              AveragePrice  Total Volume  Total Bags  Small Bags  Large Bags  \\\n",
      "AveragePrice      1.000000     -0.192752   -0.177088   -0.174730   -0.172940   \n",
      "Total Volume     -0.192752      1.000000    0.963047    0.967238    0.880640   \n",
      "Total Bags       -0.177088      0.963047    1.000000    0.994335    0.943009   \n",
      "Small Bags       -0.174730      0.967238    0.994335    1.000000    0.902589   \n",
      "Large Bags       -0.172940      0.880640    0.943009    0.902589    1.000000   \n",
      "XLarge Bags      -0.117592      0.747157    0.804233    0.806845    0.710858   \n",
      "\n",
      "              XLarge Bags  \n",
      "AveragePrice    -0.117592  \n",
      "Total Volume     0.747157  \n",
      "Total Bags       0.804233  \n",
      "Small Bags       0.806845  \n",
      "Large Bags       0.710858  \n",
      "XLarge Bags      1.000000  \n"
     ]
    }
   ],
   "source": [
    "print('De correlatie tussen de kolommen: ')\n",
    "print(dataAvocado.drop(columns=\"Date\").corr())"
   ]
  },
  {
   "cell_type": "markdown",
   "metadata": {},
   "source": [
    "#### Lijngrafiek voor gemiddelde prijzen (Laatste 100 anders is dataset onduidelijk)"
   ]
  },
  {
   "cell_type": "code",
   "execution_count": 79,
   "metadata": {},
   "outputs": [
    {
     "data": {
      "text/plain": [
       "<matplotlib.axes._subplots.AxesSubplot at 0x167be790908>"
      ]
     },
     "execution_count": 79,
     "metadata": {},
     "output_type": "execute_result"
    },
    {
     "data": {
      "image/png": "[encoded data removed]",
      "text/plain": [
       "<Figure size 432x288 with 1 Axes>"
      ]
     },
     "metadata": {
      "needs_background": "light"
     },
     "output_type": "display_data"
    }
   ],
   "source": [
    "dataAvocado[:100].sort_values(by=\"Date\", ascending=False).plot(x=\"Date\", y=\"AveragePrice\",title=\"Gemiddelde prijzen Avocado\")"
   ]
  },
  {
   "cell_type": "markdown",
   "metadata": {},
   "source": [
    "#### Lijngrafiek voor totale volumes (Laatste 35)"
   ]
  },
  {
   "cell_type": "code",
   "execution_count": 81,
   "metadata": {},
   "outputs": [
    {
     "data": {
      "text/plain": [
       "<matplotlib.axes._subplots.AxesSubplot at 0x167bb52d908>"
      ]
     },
     "execution_count": 81,
     "metadata": {},
     "output_type": "execute_result"
    },
    {
     "data": {
      "image/png": "[encoded data removed]",
      "text/plain": [
       "<Figure size 432x288 with 1 Axes>"
      ]
     },
     "metadata": {
      "needs_background": "light"
     },
     "output_type": "display_data"
    }
   ],
   "source": [
    "dataAvocado[:35].sort_values(by=\"Date\", ascending=False).plot(x=\"Date\", y=\"Total Volume\", title=\"Totale volumes Avocado\")"
   ]
  },
  {
   "cell_type": "code",
   "execution_count": null,
   "metadata": {},
   "outputs": [],
   "source": []
  }
 ],
 "metadata": {
  "kernelspec": {
   "display_name": "Python 3",
   "language": "python",
   "name": "python3"
  },
  "language_info": {
   "codemirror_mode": {
    "name": "ipython",
    "version": 3
   },
   "file_extension": ".py",
   "mimetype": "text/x-python",
   "name": "python",
   "nbconvert_exporter": "python",
   "pygments_lexer": "ipython3",
   "version": "3.7.0"
  }
 },
 "nbformat": 4,
 "nbformat_minor": 2
}
